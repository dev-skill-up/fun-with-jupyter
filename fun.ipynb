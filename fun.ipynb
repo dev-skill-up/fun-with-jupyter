{
 "cells": [
  {
   "cell_type": "markdown",
   "id": "3b7678fd-7973-43fa-a36c-1f3064422f19",
   "metadata": {
    "jp-MarkdownHeadingCollapsed": true
   },
   "source": [
    "## (Imports)"
   ]
  },
  {
   "cell_type": "code",
   "execution_count": 1,
   "id": "0d81ec27-1a2d-4e79-b890-6faa8bb3cf28",
   "metadata": {},
   "outputs": [],
   "source": [
    "from IPython.display import HTML\n",
    "\n",
    "import ipywidgets as widgets\n",
    "\n",
    "from PIL import Image, ImageDraw"
   ]
  },
  {
   "cell_type": "markdown",
   "id": "9ddeef41-8db2-4599-b709-d7b126943790",
   "metadata": {
    "jp-MarkdownHeadingCollapsed": true
   },
   "source": [
    "## Some Basic HTMLs"
   ]
  },
  {
   "cell_type": "code",
   "execution_count": 2,
   "id": "f27084b6-68a1-4c9d-b1a6-1fff5a01910f",
   "metadata": {},
   "outputs": [
    {
     "data": {
      "text/html": [
       "<b>Bold</b> and <i>Italic</i>"
      ],
      "text/plain": [
       "<IPython.core.display.HTML object>"
      ]
     },
     "execution_count": 2,
     "metadata": {},
     "output_type": "execute_result"
    }
   ],
   "source": [
    "HTML(\"<b>Bold</b> and <i>Italic</i>\")"
   ]
  },
  {
   "cell_type": "markdown",
   "id": "49de2c2c-caf6-4f51-93b8-16bbeff0c48c",
   "metadata": {
    "jp-MarkdownHeadingCollapsed": true
   },
   "source": [
    "## Pictures"
   ]
  },
  {
   "cell_type": "code",
   "execution_count": 29,
   "id": "590532d7-e614-42d0-acf4-51cd20694b3d",
   "metadata": {},
   "outputs": [
    {
     "data": {
      "image/jpeg": "[encoded data removed]",
      "image/png": "[encoded data removed]",
      "text/plain": [
       "<PIL.Image.Image image mode=RGB size=300x300>"
      ]
     },
     "execution_count": 29,
     "metadata": {},
     "output_type": "execute_result"
    }
   ],
   "source": [
    "image = Image.new('RGB', (300, 300), color='white')\n",
    "draw = ImageDraw.Draw(image)\n",
    "draw.ellipse([50, 50, 250, 250], fill='red', outline='red')\n",
    "image"
   ]
  },
  {
   "cell_type": "markdown",
   "id": "b8de3aa2-d84b-4d77-9a38-fa138825ab6d",
   "metadata": {
    "jp-MarkdownHeadingCollapsed": true
   },
   "source": [
    "## Widgets!"
   ]
  },
  {
   "cell_type": "code",
   "execution_count": 3,
   "id": "c29130ce-be04-4ec9-b68d-2bd5fb36d429",
   "metadata": {},
   "outputs": [
    {
     "data": {
      "application/vnd.jupyter.widget-view+json": {
       "model_id": "0c8109f1685849739fe76c8563669e1d",
       "version_major": 2,
       "version_minor": 0
      },
      "text/plain": [
       "IntSlider(value=7, max=10)"
      ]
     },
     "metadata": {},
     "output_type": "display_data"
    },
    {
     "data": {
      "application/vnd.jupyter.widget-view+json": {
       "model_id": "2de6e036c09a4fa98c444b39bf95d57a",
       "version_major": 2,
       "version_minor": 0
      },
      "text/plain": [
       "IntText(value=0)"
      ]
     },
     "metadata": {},
     "output_type": "display_data"
    },
    {
     "data": {
      "application/vnd.jupyter.widget-view+json": {
       "model_id": "b344af6a7a964e7f84014c5716b5df83",
       "version_major": 2,
       "version_minor": 0
      },
      "text/plain": [
       "Output()"
      ]
     },
     "metadata": {},
     "output_type": "display_data"
    }
   ],
   "source": [
    "slider = widgets.IntSlider(\n",
    "    value=7,\n",
    "    min=0,\n",
    "    max=10,\n",
    ")\n",
    "tt = widgets.IntText()\n",
    "o = widgets.Output()\n",
    "def update_output(*args):\n",
    "    with o:\n",
    "        o.clear_output()\n",
    "        print(f\"Result: {slider.value * tt.value}\")\n",
    "\n",
    "slider.observe(update_output, 'value')\n",
    "tt.observe(update_output, \"value\")\n",
    "display(slider, tt, o)"
   ]
  },
  {
   "cell_type": "markdown",
   "id": "feccef5f-3cda-4007-98c1-b9393d9c05bf",
   "metadata": {},
   "source": [
    "## Putting it all together!"
   ]
  },
  {
   "cell_type": "code",
   "execution_count": 4,
   "id": "a5e74795-9593-40d0-a11e-648dcba92c75",
   "metadata": {},
   "outputs": [
    {
     "data": {
      "application/vnd.jupyter.widget-view+json": {
       "model_id": "0c8109f1685849739fe76c8563669e1d",
       "version_major": 2,
       "version_minor": 0
      },
      "text/plain": [
       "IntSlider(value=4, max=10)"
      ]
     },
     "metadata": {},
     "output_type": "display_data"
    },
    {
     "data": {
      "application/vnd.jupyter.widget-view+json": {
       "model_id": "2de6e036c09a4fa98c444b39bf95d57a",
       "version_major": 2,
       "version_minor": 0
      },
      "text/plain": [
       "IntText(value=7)"
      ]
     },
     "metadata": {},
     "output_type": "display_data"
    },
    {
     "data": {
      "application/vnd.jupyter.widget-view+json": {
       "model_id": "b344af6a7a964e7f84014c5716b5df83",
       "version_major": 2,
       "version_minor": 0
      },
      "text/plain": [
       "Output(outputs=({'name': 'stdout', 'text': 'Result: 28\\n', 'output_type': 'stream'},))"
      ]
     },
     "metadata": {},
     "output_type": "display_data"
    }
   ],
   "source": [
    "def update_output(*args):\n",
    "    with o:\n",
    "        o.clear_output()\n",
    "        display(HTML(f\"Inputs: <b>{slider.value}</b>, <b>{tt.value}</b>\"))\n",
    "        width = 400\n",
    "        height = 300\n",
    "        \n",
    "        image = Image.new('RGB', (width, height), color='white')\n",
    "        draw = ImageDraw.Draw(image)\n",
    "        \n",
    "        rect_width = width // 2\n",
    "        blue_height = int(height * slider.value/10)\n",
    "        red_height = int(height * tt.value/10)\n",
    "        \n",
    "        # Draw blue rectangle (left)\n",
    "        draw.rectangle([0, height - blue_height, rect_width, height], fill='blue')\n",
    "        \n",
    "        # Draw red rectangle (right)\n",
    "        draw.rectangle([rect_width, height - red_height, width, height], fill='red')    \n",
    "        display(image)\n",
    "slider.observe(update_output, 'value')\n",
    "tt.observe(update_output, \"value\")\n",
    "display(slider, tt, o)\n",
    "update_output()"
   ]
  },
  {
   "cell_type": "code",
   "execution_count": null,
   "id": "c9347efe-4094-41bd-8552-93b25d852e2c",
   "metadata": {},
   "outputs": [],
   "source": []
  }
 ],
 "metadata": {
  "kernelspec": {
   "display_name": "sympy",
   "language": "python",
   "name": "sympy-venv"
  },
  "language_info": {
   "codemirror_mode": {
    "name": "ipython",
    "version": 3
   },
   "file_extension": ".py",
   "mimetype": "text/x-python",
   "name": "python",
   "nbconvert_exporter": "python",
   "pygments_lexer": "ipython3",
   "version": "3.12.1"
  }
 },
 "nbformat": 4,
 "nbformat_minor": 5
}
